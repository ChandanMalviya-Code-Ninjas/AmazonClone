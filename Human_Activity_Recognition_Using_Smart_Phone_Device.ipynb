{
  "nbformat": 4,
  "nbformat_minor": 0,
  "metadata": {
    "colab": {
      "provenance": [],
      "authorship_tag": "ABX9TyNpTHvQ7NMMIAKGN6r1rZiD",
      "include_colab_link": true
    },
    "kernelspec": {
      "name": "python3",
      "display_name": "Python 3"
    },
    "language_info": {
      "name": "python"
    }
  },
  "cells": [
    {
      "cell_type": "markdown",
      "metadata": {
        "id": "view-in-github",
        "colab_type": "text"
      },
      "source": [
        "<a href=\"https://colab.research.google.com/github/ChandanMalviya-Code-Ninjas/AmazonClone/blob/main/Human_Activity_Recognition_Using_Smart_Phone_Device.ipynb\" target=\"_parent\"><img src=\"https://colab.research.google.com/assets/colab-badge.svg\" alt=\"Open In Colab\"/></a>"
      ]
    },
    {
      "cell_type": "markdown",
      "source": [
        "# **Importing necessary libraries**"
      ],
      "metadata": {
        "id": "Zfi1AjTXOLUB"
      }
    },
    {
      "cell_type": "markdown",
      "source": [],
      "metadata": {
        "id": "KKPASftaOqHl"
      }
    },
    {
      "cell_type": "code",
      "source": [
        "# Importing necessary libraries for data analysis and visualization\n",
        "import pandas as pd  # Used for data manipulation and analysis\n",
        "import numpy as np  # Used for numerical operations on arrays\n",
        "\n",
        "# Libraries for data visualization\n",
        "import seaborn as sns  # Used for creating attractive and informative statistical graphics\n",
        "import matplotlib.pyplot as plt  # Used for plotting graphs\n",
        "%matplotlib inline\n",
        " # Allows plots to appear within the Jupyter Notebook output\n",
        "\n",
        "# Suppressing any warnings for a cleaner output\n",
        "import warnings\n",
        "warnings.filterwarnings(\"ignore\")  # Ignores warnings that may not be relevant to the analysis"
      ],
      "metadata": {
        "id": "ywc0RE9GOT0T"
      },
      "execution_count": 41,
      "outputs": []
    },
    {
      "cell_type": "markdown",
      "source": [
        "# **Importing Data Sets**"
      ],
      "metadata": {
        "id": "ZSNtrdPbOhNF"
      }
    },
    {
      "cell_type": "code",
      "source": [
        "# Loading the training dataset from the CSV file into a pandas DataFrame\n",
        "train = pd.read_csv(\"train.csv\")  # 'train.csv' should contain labeled data for training the model\n",
        "\n",
        "# Loading the test dataset from the CSV file into a pandas DataFrame\n",
        "test = pd.read_csv(\"test.csv\")  # 'test.csv' should contain data for testing and making predictions\n"
      ],
      "metadata": {
        "id": "gSe6pnweO0aK"
      },
      "execution_count": 42,
      "outputs": []
    },
    {
      "cell_type": "markdown",
      "source": [
        "# **To Combine both the  data frames**"
      ],
      "metadata": {
        "id": "pzvC_jojPPWS"
      }
    },
    {
      "cell_type": "code",
      "source": [
        "# Section 1: Adding a Column to Differentiate Train and Test Sets\n",
        "train['Data'] = 'Train'  # Adds a 'Data' column to the train DataFrame, labeling rows as 'Train'\n",
        "test['Data'] = 'Test'  # Adds a 'Data' column to the test DataFrame, labeling rows as 'Test'\n",
        "\n",
        "# Section 2: Combining Train and Test DataFrames\n",
        "both = pd.concat([train, test], axis=0).reset_index(drop=True)  # Concatenates train and test DataFrames along rows, resetting index\n",
        "both['subject'] = '#' + both['subject'].astype(str)  # Prefixes each 'subject' value with '#', converting to string if necessary\n",
        "\n",
        "# Displaying the shapes of train and test sets to verify size\n",
        "train.shape, test.shape  # Outputs the dimensions of train and test DataFrames\n",
        "\n",
        "# Viewing the first few rows of the combined DataFrame\n",
        "both.head()  # Displays the first five rows of the 'both' DataFrame to inspect the merged data\n",
        "\n",
        "# Section 3: Checking Data Types in the Combined DataFrame\n",
        "both.dtypes.value_counts()  # Counts and displays the number of each data type in the 'both' DataFrame\n",
        "\n",
        "# Section 4: Defining a Function for Basic Data Inspection\n",
        "def basic_details(df):\n",
        "    \"\"\"\n",
        "    Function to generate a summary DataFrame with:\n",
        "    - Missing values count for each column\n",
        "    - Number of unique values for each column\n",
        "    - Data type of each column\n",
        "    \"\"\"\n",
        "    b = pd.DataFrame()\n",
        "    b['Missing value'] = df.isnull().sum()  # Counts missing values for each column\n",
        "    b['N unique value'] = df.nunique()  # Counts unique values for each column\n",
        "    b['dtype'] = df.dtypes  # Lists data types for each column\n",
        "    return b\n",
        "\n",
        "# Calling the function on the combined DataFrame\n",
        "basic_details(both)  # Displays the basic details for 'both' DataFrame\n",
        "\n",
        "# Section 5: Visualizing Activity Labels in the Combined Data\n",
        "activity = both['Activity']  # Extracts the 'Activity' column for analysis\n",
        "label_counts = activity.value_counts()  # Counts occurrences of each unique label in 'Activity'\n",
        "\n",
        "# Plotting the distribution of activity labels\n",
        "plt.figure(figsize=(12, 8))  # Sets the plot size\n",
        "plt.bar(label_counts.index, label_counts)  # Creates a bar chart for 'Activity' label counts\n"
      ],
      "metadata": {
        "colab": {
          "base_uri": "https://localhost:8080/",
          "height": 694
        },
        "id": "R4vKxwq6PlKM",
        "outputId": "a2de5da7-678c-4933-dbbc-79a08fe3475c"
      },
      "execution_count": 43,
      "outputs": [
        {
          "output_type": "execute_result",
          "data": {
            "text/plain": [
              "<BarContainer object of 6 artists>"
            ]
          },
          "metadata": {},
          "execution_count": 43
        },
        {
          "output_type": "display_data",
          "data": {
            "text/plain": [
              "<Figure size 1200x800 with 1 Axes>"
            ],
            "image/png": "[encoded data removed]"
          },
          "metadata": {}
        }
      ]
    },
    {
      "cell_type": "markdown",
      "source": [
        "# **To Scale the data**"
      ],
      "metadata": {
        "id": "MOUcU5TUQNtr"
      }
    },
    {
      "cell_type": "code",
      "source": [
        "# Standard Scaling for Numerical Features\n",
        "from sklearn.preprocessing import StandardScaler  # Importing the StandardScaler for normalization\n",
        "\n",
        "# Selecting only the numerical columns from the training set for scaling\n",
        "numerical_features = train.select_dtypes(include=['number']).columns  # Identifies columns with numerical data types\n",
        "train_numerical = train[numerical_features]  # Creates a DataFrame with only numerical features from the train set\n",
        "\n",
        "# Applying standard scaling to numerical features to normalize their range\n",
        "slc = StandardScaler()  # Initializing the StandardScaler\n",
        "train_scaled = slc.fit_transform(train_numerical)  # Scaling the numerical features, output as an array\n",
        "\n",
        "# Dimensionality Reduction Using PCA (Principal Component Analysis)\n",
        "from sklearn.decomposition import PCA  # Importing PCA for dimensionality reduction\n",
        "pca = PCA(n_components=0.9, random_state=0)  # Initializing PCA to retain 90% of the explained variance\n",
        "train_pca = pca.fit_transform(train_scaled)  # Applying PCA on the scaled data\n",
        "\n",
        "# Recombining Scaled/PCA Data with Original Non-Numerical Columns (if needed)\n",
        "train_processed = pd.DataFrame(train_pca, index=train.index)  # Converts PCA-transformed array to DataFrame with original index\n",
        "train_final = pd.concat([train.drop(columns=numerical_features), train_processed], axis=1)\n",
        "# Concatenates non-numerical original columns with PCA-transformed data, creating the final processed training DataFrame\n"
      ],
      "metadata": {
        "id": "BdC1mwILQR2F"
      },
      "execution_count": 44,
      "outputs": []
    },
    {
      "cell_type": "markdown",
      "source": [
        "# **Splitting the  data into training and testing**"
      ],
      "metadata": {
        "id": "QixOFeiXQfjI"
      }
    },
    {
      "cell_type": "code",
      "source": [
        "# Importing the train_test_split function for splitting data\n",
        "from sklearn.model_selection import train_test_split\n",
        "\n",
        "# Splitting the Data into Training and Testing Sets\n",
        "# Using 'train['Activity']' as the target to maintain consistency with the train DataFrame\n",
        "X_train, X_test, y_train, y_test = train_test_split(\n",
        "    train.drop('Activity', axis=1),  # Features: All columns except 'Activity'\n",
        "    train['Activity'],  # Target: 'Activity' column\n",
        "    test_size=0.2,  # Allocates 20% of the data for the test set\n",
        "    random_state=0  # Ensures reproducibility of the split by setting a fixed random state\n",
        ")\n"
      ],
      "metadata": {
        "id": "b-FH5DcxQkmS"
      },
      "execution_count": 45,
      "outputs": []
    },
    {
      "cell_type": "markdown",
      "source": [
        "# **Test options and evaluation metric**"
      ],
      "metadata": {
        "id": "rHg3lzRyQoTx"
      }
    },
    {
      "cell_type": "code",
      "source": [
        "# Setting Parameters for Cross-Validation and Evaluation\n",
        "num_folds = 10  # Defines the number of folds for cross-validation (10-fold cross-validation)\n",
        "seed = 0  # Sets a random seed for reproducibility in cross-validation and any random processes\n",
        "scoring = 'accuracy'  # Specifies 'accuracy' as the evaluation metric for model performance\n",
        "\n",
        "# Initializing Empty Dictionaries to Store Results\n",
        "results = {}  # Dictionary to store cross-validation results for different models\n",
        "accuracy = {}  # Dictionary to store accuracy scores for each model or fold\n"
      ],
      "metadata": {
        "id": "IzgimGtZQu8V"
      },
      "execution_count": 46,
      "outputs": []
    },
    {
      "cell_type": "markdown",
      "source": [
        "# **Activity Recognition Algorithm**"
      ],
      "metadata": {
        "id": "shF5d3ARQxmc"
      }
    },
    {
      "cell_type": "code",
      "source": [
        "# Section 1: Model Import and Metrics Setup\n",
        "from sklearn.neighbors import KNeighborsClassifier  # Importing K-Nearest Neighbors classifier\n",
        "from sklearn.metrics import confusion_matrix, accuracy_score, classification_report  # Importing evaluation metrics\n",
        "from sklearn.model_selection import KFold, cross_val_score  # Importing cross-validation tools\n",
        "import pandas as pd  # Importing pandas for data manipulation\n",
        "\n",
        "# Section 2: Converting Non-Numeric Columns to Numeric\n",
        "# Ensuring that all features in X_train are numeric, especially if any were categorical or problematic\n",
        "for column in X_train.select_dtypes(include=['object']).columns:  # Identifies object-type columns in X_train\n",
        "    if column in X_train.columns:  # Checks if the column still exists after conversion\n",
        "        try:\n",
        "            X_train[column] = pd.to_numeric(X_train[column])  # Tries to convert to numeric format\n",
        "        except ValueError:\n",
        "            print(f\"Column '{column}' could not be converted to numeric.\")  # Alerts if conversion fails\n",
        "            # Handles columns that cannot be converted; here, we drop them as an example\n",
        "            X_train = X_train.drop(column, axis=1)  # Drops column from training set\n",
        "            X_test = X_test.drop(column, axis=1)  # Drops column from test set for consistency\n",
        "\n",
        "# Section 3: Model Initialization and Cross-Validation\n",
        "model = KNeighborsClassifier(algorithm='auto', n_neighbors=8, p=1, weights='distance')\n",
        "# Initializes KNN with specific parameters: 8 neighbors, Manhattan distance (p=1), and distance-based weights\n",
        "\n",
        "# Performing 10-fold cross-validation and storing the mean and standard deviation of accuracy scores\n",
        "_ = cross_val_score(model, X_train, y_train, cv=10, scoring=scoring)  # Executes cross-validation\n",
        "results[\"GScv\"] = (_.mean(), _.std())  # Stores mean and std of cross-validation accuracy in results dictionary\n",
        "\n",
        "# Section 4: Model Training and Prediction\n",
        "model.fit(X_train, y_train)  # Fits the model to the training data\n",
        "y_predict = model.predict(X_test)  # Predicts target values for the test data\n",
        "\n",
        "# Storing the accuracy score of the model predictions\n",
        "accuracy[\"GScv\"] = accuracy_score(y_test, y_predict)  # Calculates accuracy score and stores it in accuracy dictionary\n",
        "\n",
        "# Section 5: Model Evaluation and Confusion Matrix Visualization\n",
        "print(classification_report(y_test, y_predict))  # Prints a detailed classification report (precision, recall, F1-score)\n",
        "\n",
        "# Confusion Matrix and Heatmap Visualization\n",
        "cm = confusion_matrix(y_test, y_predict)  # Creates confusion matrix for actual vs predicted labels\n",
        "sns.heatmap(cm, annot=True)  # Visualizes the confusion matrix as a heatmap with annotations\n"
      ],
      "metadata": {
        "colab": {
          "base_uri": "https://localhost:8080/",
          "height": 702
        },
        "id": "dX23-mioQ1Ql",
        "outputId": "e93a669d-b531-4ce1-a0d8-4ff0b4c7f1b6"
      },
      "execution_count": 47,
      "outputs": [
        {
          "output_type": "stream",
          "name": "stdout",
          "text": [
            "Column 'Data' could not be converted to numeric.\n",
            "                    precision    recall  f1-score   support\n",
            "\n",
            "            LAYING       1.00      1.00      1.00       285\n",
            "           SITTING       0.98      0.92      0.95       275\n",
            "          STANDING       0.93      0.99      0.95       278\n",
            "           WALKING       0.99      1.00      0.99       244\n",
            "WALKING_DOWNSTAIRS       1.00      0.99      0.99       196\n",
            "  WALKING_UPSTAIRS       0.99      1.00      1.00       193\n",
            "\n",
            "          accuracy                           0.98      1471\n",
            "         macro avg       0.98      0.98      0.98      1471\n",
            "      weighted avg       0.98      0.98      0.98      1471\n",
            "\n"
          ]
        },
        {
          "output_type": "execute_result",
          "data": {
            "text/plain": [
              "<Axes: >"
            ]
          },
          "metadata": {},
          "execution_count": 47
        },
        {
          "output_type": "display_data",
          "data": {
            "text/plain": [
              "<Figure size 640x480 with 2 Axes>"
            ],
            "image/png": "[encoded data removed]"
          },
          "metadata": {}
        }
      ]
    },
    {
      "cell_type": "code",
      "source": [],
      "metadata": {
        "id": "fGwWCUMLPrRI"
      },
      "execution_count": null,
      "outputs": []
    }
  ]
}